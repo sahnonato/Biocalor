{
 "cells": [
  {
   "cell_type": "code",
   "execution_count": 2,
   "id": "74f899c1",
   "metadata": {},
   "outputs": [],
   "source": [
    "import numpy as np\n",
    "def calculabiocalor(tambiente, h):\n",
    "#  Criando as matrizes necessárias\n",
    "    C = np.zeros((17, 17), dtype=np.float64)\n",
    "    Su = np.zeros((17, 1), dtype=np.float64)\n",
    "#  Condutividades térmicas (K) em W/m K:\n",
    "    epidermis_K = 0.24\n",
    "    dermis_K = 0.45\n",
    "    fatty_K = 0.21\n",
    "    muscle_K = 0.5\n",
    "#  Temperaturas em Kelvin:\n",
    "    Ta = 310.15\n",
    "    Tc = 310.15\n",
    "#  Demais dados:\n",
    "    Qmet = 1000  # Calor metabólico em W/m³\n",
    "    Cb = 4200  # Calor específico do sangue em J/Kg K\n",
    "    Pb = 1000  # Massa específica do sangue em Kg/m³\n",
    "    Wb = 5e-4  # Perfusão sanguínea em ml/s ml\n",
    "#  Criando os espaçamentos Δx em metro:\n",
    "    dx1 = 80e-6  # de i = 0 até i = 1\n",
    "    dx2 = 2e-3  # de i = 1 até i = 2\n",
    "    dx3 = 2.5e-3  # de i = 3 até i = 7\n",
    "    dx4 = 2e-3  # de i = 7 até i = 16\n",
    "#  Definindo o domínio discreto de cálculo:\n",
    "    x = [0, dx1, dx1 + dx2]\n",
    "    for i in range(1, 5):\n",
    "        n = dx1 + dx2 +i*dx3\n",
    "        x.append(n)\n",
    "    for j in range(1, 11):\n",
    "        a = x[6] + j*dx4\n",
    "        x.append(a)\n",
    "#  Definindo a matriz de coeficientes:\n",
    "#  Em x = 0: transferência de calor na epiderme até a temperatura limite com a derme.\n",
    "    C[0, 0] = (epidermis_K/dx1) + h\n",
    "    C[0, 1] = -(epidermis_K/dx1)\n",
    "    Su[0] = h*tambiente\n",
    "#  Em x = 1: transferência de calor na derme até a temperatura limite com a gordura.\n",
    "    C[1, 0] = (epidermis_K/dx1)\n",
    "    C[1, 1] = -((epidermis_K/dx1) + (dermis_K/dx2) + (Pb*Wb*Cb/2)*(dx1 + dx2))\n",
    "    C[1, 2] = (dermis_K/dx2)\n",
    "    Su[1] = -(Pb*Wb*Cb*Ta/2)*(dx1 + dx2)\n",
    "#  Em x = 2: transferência no limite para a gordura.\n",
    "    C[2, 1] = (dermis_K/dx2)\n",
    "    C[2, 2] = -((dermis_K/dx2) + (fatty_K/dx3) + (Pb*Cb*Wb/2)*(dx2 + dx3))\n",
    "    C[2, 3] = (fatty_K/dx3)\n",
    "    Su[2] = - ((Pb*Wb*Cb*Ta/2)*(dx2 + dx3) + (Qmet/2)*(dx2 + dx3))\n",
    "#  Em 3 <= x <= 6:\n",
    "    for i in range(3, 7):\n",
    "        C[i, i - 1] = (1/(dx3**2))\n",
    "        C[i, i] = - ((2/(dx3**2)) + (Pb*Wb*Cb/fatty_K))\n",
    "        C[i, i + 1] = (1/(dx3**2))\n",
    "        Su[i] = -((Qmet/fatty_K) + (Pb*Wb*Cb*Ta/fatty_K))\n",
    "#  Em x = 7 há outro encontro de camadas.\n",
    "    C[7, 6] = (fatty_K/dx3)\n",
    "    C[7, 7] = -((fatty_K/dx3) + (muscle_K/dx4) + (Pb*Wb*Cb/2)*(dx3 + dx4))\n",
    "    C[7, 8] = (muscle_K/dx4)\n",
    "    Su[7] = -((Pb*Wb*Cb*Ta/2) + (Qmet/2))*(dx3 + dx4)\n",
    "    for i in range(8, 16):\n",
    "        C[i, i - 1] = (1/(dx4**2))\n",
    "        C[i, i] = - ((2/(dx4**2)) + (Pb*Wb*Cb/muscle_K))\n",
    "        C[i, i + 1] = (1/(dx4**2))\n",
    "        Su[i] = -((Qmet/muscle_K) + (Pb*Wb*Cb*Ta/muscle_K))\n",
    "#  Para x = 16:\n",
    "    C[16, 15] = (1/(dx4**2))\n",
    "    C[16, 16] = - ((2/(dx4**2)) + (Pb*Wb*Cb/muscle_K))\n",
    "    Su[16] = - ((Qmet/muscle_K) + (Pb*Wb*Cb*Ta/muscle_K) + (Tc/(dx4**2)))\n",
    "    T = np.linalg.solve(C, Su)\n",
    "    return x, T"
   ]
  },
  {
   "cell_type": "code",
   "execution_count": 10,
   "id": "d40e2dba",
   "metadata": {
    "scrolled": false
   },
   "outputs": [
    {
     "name": "stdout",
     "output_type": "stream",
     "text": [
      "                                                   0\n",
      "0  [0, 8e-05, 0.0020800000000000003, 0.0045800000...\n",
      "1  [[35.22197041809079], [35.23900703545428], [35...\n",
      "2  [[33.714290921958025], [33.74333855836454], [3...\n",
      "3  [[32.59419289324035], [32.63216385770653], [33...\n",
      "4  [[31.729244340559205], [31.774105969496247], [...\n",
      "[0, 8e-05, 0.0020800000000000003, 0.004580000000000001, 0.00708, 0.00958, 0.01208, 0.01408, 0.01608, 0.01808, 0.02008, 0.022080000000000002, 0.02408, 0.02608, 0.02808, 0.030080000000000003, 0.03208]\n"
     ]
    }
   ],
   "source": [
    "#  Obtenção dos resultados de interesse (variando o h e mantendo Tambiente = 298,15 K)\n",
    "x1, T1 = calculabiocalor(298.15, 5)\n",
    "x2, T2 = calculabiocalor(298.15, 10)\n",
    "x3, T3 = calculabiocalor(298.15, 15)\n",
    "x4, T4 = calculabiocalor(298.15, 20)\n",
    "#  Obter T em graus celsius\n",
    "T_Celsius1 = []\n",
    "for i in T1:\n",
    "    a = i - 273.15\n",
    "    T_Celsius1.append(a)\n",
    "T_Celsius2 = []\n",
    "for i in T2:\n",
    "    a = i - 273.15\n",
    "    T_Celsius2.append(a)\n",
    "T_Celsius3 = []\n",
    "for i in T3:\n",
    "    a = i - 273.15\n",
    "    T_Celsius3.append(a)\n",
    "T_Celsius4 = []\n",
    "for i in T4:\n",
    "    a = i - 273.15\n",
    "    T_Celsius4.append(a)\n",
    "#  Exibindo os resultados\n",
    "import pandas as pd\n",
    "data = [[x1], [T_Celsius1], [T_Celsius2], [T_Celsius3], [T_Celsius4]]\n",
    "df = pd.DataFrame(data)\n",
    "print(df)\n",
    "print(x1)"
   ]
  },
  {
   "cell_type": "code",
   "execution_count": 5,
   "id": "0d077c68",
   "metadata": {},
   "outputs": [
    {
     "data": {
      "image/png": "[encoded data removed]",
      "text/plain": [
       "<Figure size 432x288 with 1 Axes>"
      ]
     },
     "metadata": {
      "needs_background": "light"
     },
     "output_type": "display_data"
    }
   ],
   "source": [
    "#  Plotando os gráficos necessários\n",
    "import matplotlib.pyplot as plt\n",
    "plt.plot(x1, T_Celsius1, color='r', label='h = 5', marker='D')\n",
    "plt.plot(x1, T_Celsius2, color='b', label='h = 10', marker='D')\n",
    "plt.plot(x1, T_Celsius3, color='g', label='h = 15', marker='D')\n",
    "plt.plot(x1, T_Celsius4, color='y', label='h = 20', marker='D')\n",
    "plt.yticks([25, 26, 27, 28, 29, 30, 31, 32, 33, 34, 35, 36, 37, 38, 39])\n",
    "plt.xlabel(\"Distância (m)\")\n",
    "plt.ylabel(\"Temperatura (°C)\")\n",
    "plt.title(\"Influência do coeficiente de convecção h\")\n",
    "plt.legend()\n",
    "plt.show()"
   ]
  },
  {
   "cell_type": "code",
   "execution_count": 11,
   "id": "8535eaae",
   "metadata": {
    "scrolled": true
   },
   "outputs": [
    {
     "name": "stdout",
     "output_type": "stream",
     "text": [
      " O erro percentual médio é de 0.1684590837468732%.\n"
     ]
    }
   ],
   "source": [
    "#  Validação\n",
    "import math\n",
    "def biocaloranalitico(Ts, h, k, L, A, x):\n",
    "#Ts = 298.15\n",
    "    Ta = 310.15\n",
    "    Tc = 310.15\n",
    "    Qmet = 1000  # Calor metabólico em W/m³\n",
    "    Cb = 4200  # Calor específico do sangue em J/Kg K\n",
    "    Pb = 1000  # Massa específica do sangue em Kg/m³\n",
    "    Wb = 5e-4  # Perfusão sanguínea em ml/s ml\n",
    "    Q = Tc + Qmet/(Wb*Pb*Cb)\n",
    "    solucao = []\n",
    "    for i in x:\n",
    "        Num1 = -(Qmet/(Wb*Pb*Cb))*(math.sqrt(A)*math.cosh(math.sqrt(A)*i)+(h/k)*math.sinh(math.sqrt(A)*i))\n",
    "        Den = math.sqrt(A)*math.cosh(math.sqrt(A)*L)+(h/k)*math.sinh(math.sqrt(A)*L)\n",
    "        Num2 = (h/k)*(Ts - Tc - (Qmet/(Wb*Pb*Cb))*math.sinh(math.sqrt(A)*(L - i)))\n",
    "        T_analitico = Q + Num1/Den + Num2/Den\n",
    "        solucao.append(T_analitico)\n",
    "    solucao_celsius = []\n",
    "    for j in solucao:\n",
    "        celsius = j - 273.15\n",
    "        solucao_celsius.append(celsius)\n",
    "    return solucao\n",
    "\n",
    "#  Criando os espaçamentos Δx em metro:\n",
    "dx1 = 8e-5 # de i = 0 até i = 1\n",
    "dx2 = 2e-3  # de i = 1 até i = 2\n",
    "dx3 = 2.5e-3  # de i = 3 até i = 7\n",
    "dx4 = 2e-3  # de i = 7 até i = 16\n",
    "#h = 10\n",
    "#  Espessuras dos tecidos em metros:\n",
    "epidermis_L = 8e-5\n",
    "dermis_L = 2e-3 + epidermis_L\n",
    "fatty_L = 10e-3 + dermis_L\n",
    "muscle_L = 20e-3 + fatty_L\n",
    "L = epidermis_L + dermis_L + fatty_L + muscle_L\n",
    "#  Definindo o domínio discreto de cálculo:\n",
    "x = [0, dx1, dx1 + dx2]\n",
    "for i in range(1, 5):\n",
    "    n = dx1 + dx2 +i*dx3\n",
    "    x.append(n)\n",
    "for j in range(1, 11):\n",
    "    a = x[6] + j*dx4\n",
    "    x.append(a)\n",
    "#  Fatiando as regiões\n",
    "x_epidermis = []\n",
    "x_dermis = []\n",
    "x_fatty = []\n",
    "x_muscle = []\n",
    "for m in range(0, 17):\n",
    "    if m <= 1:\n",
    "        x_fatia = x[m]\n",
    "        x_epidermis.append(x_fatia)\n",
    "    if m > 1 and m <= 2:\n",
    "        x_fatia = x[m]\n",
    "        x_dermis.append(x_fatia)\n",
    "    if m > 2 and m < 6:\n",
    "        x_fatia = x[m]\n",
    "        x_fatty.append(x_fatia)\n",
    "    if m >= 6:\n",
    "        x_fatia = x[m]\n",
    "        x_muscle.append(x_fatia)\n",
    "#  Definindo constantes auxiliares de cálculo\n",
    "Ta = 310.15\n",
    "Tc = 310.15\n",
    "Qmet = 1000  # Calor metabólico em W/m³\n",
    "Cb = 4200  # Calor específico do sangue em J/Kg K\n",
    "Pb = 1000  # Massa específica do sangue em Kg/m³\n",
    "Wb = 5*10**(-4)  # Perfusão sanguínea em ml/s ml\n",
    "epidermis_K = 0.24\n",
    "dermis_K = 0.45\n",
    "fatty_K = 0.21\n",
    "muscle_K = 0.5\n",
    "A_epidermis = Wb*Pb*Cb/epidermis_K\n",
    "A_dermis = Wb*Pb*Cb/dermis_K\n",
    "A_fatty = Wb*Pb*Cb/fatty_K\n",
    "A_muscle = Wb*Pb*Cb/muscle_K\n",
    "T_epidermisanalitico = biocaloranalitico(298.15, 10, epidermis_K, epidermis_L, A_epidermis, x_epidermis)\n",
    "T_dermisanalitico = biocaloranalitico(298.15, 10, dermis_K, dermis_L + epidermis_L, A_dermis, x_dermis)\n",
    "T_fattyanalitico = biocaloranalitico(298.15, 10, fatty_K, dermis_L + epidermis_L + fatty_L, A_fatty, x_fatty)\n",
    "T_muscleanalitico = biocaloranalitico(298.15, 10, muscle_K, L, A_muscle, x_muscle)\n",
    "T_analitico = []\n",
    "for i in T_epidermisanalitico:\n",
    "    T_analitico.append(i)\n",
    "for i in T_dermisanalitico:\n",
    "    T_analitico.append(i)\n",
    "for i in T_fattyanalitico:\n",
    "    T_analitico.append(i)\n",
    "for i in T_muscleanalitico:\n",
    "    T_analitico.append(i)\n",
    "#Erro\n",
    "erro = []\n",
    "for i in range(0, 17):\n",
    "    auxiliar = (T_analitico[i] - T2[i])/T_analitico[i]\n",
    "    erro.append(auxiliar)\n",
    "erro_percentual = []\n",
    "for j in erro:\n",
    "    aux = abs(j)*100\n",
    "    erro_percentual.append(aux)\n",
    "erro_percentual_medio = np.mean(erro_percentual)\n",
    "print(f' O erro percentual médio é de {erro_percentual_medio}%.')\n"
   ]
  },
  {
   "cell_type": "code",
   "execution_count": 12,
   "id": "43c0afe1",
   "metadata": {},
   "outputs": [
    {
     "data": {
      "image/png": "[encoded data removed]",
      "text/plain": [
       "<Figure size 432x288 with 1 Axes>"
      ]
     },
     "metadata": {
      "needs_background": "light"
     },
     "output_type": "display_data"
    }
   ],
   "source": [
    "#  Printando os resultados numéricos de h = 10 e T = 298,15 K\n",
    "plt.plot(x1, T2, color='r', label='Diferenças finitas', marker='D')\n",
    "plt.plot(x1, T_analitico , color='b', label='Solução Analítica', marker='D')\n",
    "plt.yticks([298.15, 299.15, 300.15, 301.15, 302.15, 303.15, 304.15, 305.15, 306.15, 307.15, 308.15, 309.15, 310.15, 311.15, 312.15])\n",
    "plt.xlabel(\"Distância (m)\")\n",
    "plt.ylabel(\"Temperatura (K)\")\n",
    "plt.title(\"Método numérico x Solução Analítica\")\n",
    "plt.legend()\n",
    "plt.show()"
   ]
  }
 ],
 "metadata": {
  "kernelspec": {
   "display_name": "Python 3 (ipykernel)",
   "language": "python",
   "name": "python3"
  },
  "language_info": {
   "codemirror_mode": {
    "name": "ipython",
    "version": 3
   },
   "file_extension": ".py",
   "mimetype": "text/x-python",
   "name": "python",
   "nbconvert_exporter": "python",
   "pygments_lexer": "ipython3",
   "version": "3.9.12"
  }
 },
 "nbformat": 4,
 "nbformat_minor": 5
}
